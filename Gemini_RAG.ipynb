{
  "nbformat": 4,
  "nbformat_minor": 0,
  "metadata": {
    "colab": {
      "provenance": [],
      "authorship_tag": "ABX9TyNNnG/C72kXC8thESJN8Ggp",
      "include_colab_link": true
    },
    "kernelspec": {
      "name": "python3",
      "display_name": "Python 3"
    },
    "language_info": {
      "name": "python"
    }
  },
  "cells": [
    {
      "cell_type": "markdown",
      "metadata": {
        "id": "view-in-github",
        "colab_type": "text"
      },
      "source": [
        "<a href=\"https://colab.research.google.com/github/kotaro0918/Gemini_RAG/blob/main/Gemini_RAG.ipynb\" target=\"_parent\"><img src=\"https://colab.research.google.com/assets/colab-badge.svg\" alt=\"Open In Colab\"/></a>"
      ]
    },
    {
      "cell_type": "markdown",
      "source": [
        "このプログラムを実行する前に、GeminiのAPIキーを発行してシークレットキーに保管してください\n",
        "またNDCのドキュメントをドライブに保存してください\n",
        "\n",
        "NDCのtxtデータはEmbeddingのレポジトリに落ちてます\n",
        "(余裕があったらRAGのレポジトリにも)"
      ],
      "metadata": {
        "id": "9Q0TWM2CEDa2"
      }
    },
    {
      "cell_type": "code",
      "execution_count": null,
      "metadata": {
        "id": "86ueUlXQA9QK"
      },
      "outputs": [],
      "source": [
        "#必要なライブラリのインストール\n",
        "!pip install langchain\n",
        "!pip install -q -U google-generativeai"
      ]
    },
    {
      "cell_type": "code",
      "source": [
        "#Google Driveへのアクセス許可\n",
        "from google.colab import drive\n",
        "drive.mount('/content/drive')"
      ],
      "metadata": {
        "id": "pJkQvbz8BRa_"
      },
      "execution_count": null,
      "outputs": []
    },
    {
      "cell_type": "code",
      "source": [
        "#必要なライブラリインポート\n",
        "# Embedding用\n",
        "from langchain.embeddings.openai import OpenAIEmbeddings\n",
        "from langchain.text_splitter import CharacterTextSplitter\n",
        "# テキストファイルを読み込む\n",
        "from langchain.document_loaders import TextLoader"
      ],
      "metadata": {
        "id": "l8KipJbnBIvz"
      },
      "execution_count": null,
      "outputs": []
    },
    {
      "cell_type": "code",
      "source": [
        "# 環境変数の準備\n",
        "import google.generativeai as genai\n",
        "GOOGLE_API_KEY=userdata.get('GEMINI_API_KEY')\n",
        "\n",
        "genai.configure(api_key=GOOGLE_API_KEY)"
      ],
      "metadata": {
        "id": "1FeBAvs9CJqd"
      },
      "execution_count": null,
      "outputs": []
    },
    {
      "cell_type": "code",
      "source": [
        "txt_path = \"your_txt_path\""
      ],
      "metadata": {
        "id": "0mrh8_VhCVgp"
      },
      "execution_count": null,
      "outputs": []
    },
    {
      "cell_type": "code",
      "source": [
        "#テキストデータの読み込み\n",
        "loader = TextLoader(txt_path)\n",
        "documents = loader.load()"
      ],
      "metadata": {
        "id": "M41lswaPCYBM"
      },
      "execution_count": null,
      "outputs": []
    },
    {
      "cell_type": "code",
      "source": [
        "#テキストデータの分割\n",
        "text_splitter = CharacterTextSplitter(chunk_size=500, chunk_overlap=50)\n",
        "docs = text_splitter.split_documents(documents)"
      ],
      "metadata": {
        "id": "TF_jBG1VChPh"
      },
      "execution_count": null,
      "outputs": []
    },
    {
      "cell_type": "code",
      "source": [
        "df=pd.DataFrame(data=docs,columns=[\"doc\",\"source\",\"type\"])\n",
        "display(df)"
      ],
      "metadata": {
        "id": "k5F3UxGACmgh"
      },
      "execution_count": null,
      "outputs": []
    },
    {
      "cell_type": "code",
      "source": [
        "#分割したドキュメントをEmbedding\n",
        "docs=list(docs)\n",
        "result = genai.embed_content(\n",
        "    model=\"models/embedding-001\",\n",
        "    content=df[\"doc\"],\n",
        "    task_type=\"retrieval_document\",\n",
        "    title=\"Embedding of list of strings\")\n",
        "df[\"Embedding\"]=result[\"embedding\"]"
      ],
      "metadata": {
        "id": "eXUdNa3NCp94"
      },
      "execution_count": null,
      "outputs": []
    },
    {
      "cell_type": "code",
      "source": [
        "#得られたベクトルを標準化\n",
        "import numpy as np\n",
        "def normalize_vector(v):\n",
        "    norm = np.linalg.norm(v)\n",
        "    if norm == 0:\n",
        "       return v\n",
        "    return v / norm\n",
        "\n",
        "df[\"Embedding\"]=df[\"Embedding\"].map(normalize_vector)\n",
        "passage_embeddings=df[\"Embedding\"]"
      ],
      "metadata": {
        "id": "Jf7ROJ3FCz89"
      },
      "execution_count": null,
      "outputs": []
    },
    {
      "cell_type": "code",
      "source": [
        "#queryをEmbedding\n",
        "result = genai.embed_content(\n",
        "    model=\"models/embedding-001\",\n",
        "    content=\"\"\"\n",
        "    手宮線は、全国で３番目、北海道では最初に開通した路線です。\n",
        "    南小樽～手宮間は、わずか２．８ｋｍの短い路線ですが、北海道開拓の物資輸送の拠点として発展しました。\n",
        "    しかし戦後、利用客は減少を続け、昭和６０年１１月、手宮線は廃止されました。\n",
        "    北海道鉄道発祥の地である手宮駅の跡地は、現在、小樽市総合博物館として活用され現存する日本最古の機関庫とともに、貴重な車両が保存されています。\n",
        "    \"\"\",\n",
        "    task_type=\"retrieval_document\",\n",
        "    title=\"Embedding of list of strings\")\n",
        "query_embedding = normalize_vector(result[\"embedding\"])"
      ],
      "metadata": {
        "id": "xco72hnjC4pt"
      },
      "execution_count": null,
      "outputs": []
    },
    {
      "cell_type": "code",
      "source": [
        "#得られたベクトルの内積を計算\n",
        "scores = []\n",
        "for content in passage_embeddings:\n",
        "  scores.append(np.dot(content,query_embedding))"
      ],
      "metadata": {
        "id": "mYSmGDxuDgBf"
      },
      "execution_count": null,
      "outputs": []
    },
    {
      "cell_type": "code",
      "source": [
        "#内積を降順に並べ替えた時のインデックスを取得\n",
        "def get_sorted_indices(lst):\n",
        "    return [i for i, v in sorted(enumerate(lst), key=lambda x: x[1],reverse = True)]\n",
        "scores_indices = get_sorted_indices(scores)"
      ],
      "metadata": {
        "id": "fxcHL11QDirS"
      },
      "execution_count": null,
      "outputs": []
    },
    {
      "cell_type": "code",
      "source": [
        "#コサイン類似度の高い３つの文章を出力\n",
        "print(df[\"doc\"][scores_indices[0:3]])"
      ],
      "metadata": {
        "id": "HICy_MaPDy5k"
      },
      "execution_count": null,
      "outputs": []
    },
    {
      "cell_type": "code",
      "source": [],
      "metadata": {
        "id": "t5C3NInKDyyQ"
      },
      "execution_count": null,
      "outputs": []
    }
  ]
}